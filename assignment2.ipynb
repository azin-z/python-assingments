{
 "cells": [
  {
   "cell_type": "markdown",
   "metadata": {},
   "source": [
    "## Assignment 2 \n",
    "Date: 26.05.2020"
   ]
  },
  {
   "cell_type": "markdown",
   "metadata": {},
   "source": [
    "Before starting this assignment, it is recommended to have a look and try to complete [the exercise here](https://www.practicepython.org/exercise/2014/05/21/15-reverse-word-order.html). (The solution to the assignment is also provided.) "
   ]
  },
  {
   "cell_type": "markdown",
   "metadata": {},
   "source": [
    "You are a programmer working for the Saarbrücken Mensa. The Mensa has decided to show its menu in a creative way to take everyone's mind off of the pandemic.\n",
    "Below we define the array holding the starter options and another array holding their corresponding prices in euros."
   ]
  },
  {
   "cell_type": "code",
   "execution_count": 47,
   "metadata": {},
   "outputs": [],
   "source": [
    "starters = ['Green Salad', 'Carrot Salad']\n",
    "starterPrices = [1, 2]"
   ]
  },
  {
   "cell_type": "markdown",
   "metadata": {},
   "source": [
    "Since you are the developer and Mensa is grateful to your services, they've allowed you to add an extra item to the starter menu. Run the code below and add your favorite starter and then enter its price:"
   ]
  },
  {
   "cell_type": "code",
   "execution_count": null,
   "metadata": {},
   "outputs": [],
   "source": [
    "x = input('Enter your favorite starter here: ')\n",
    "starters.append(x)\n",
    "y = input('state the price for: ' + x + ' in euros: ')\n",
    "starterPrices.append(int(y))"
   ]
  },
  {
   "cell_type": "code",
   "execution_count": 2,
   "metadata": {},
   "outputs": [
    {
     "ename": "NameError",
     "evalue": "name 'Starters' is not defined",
     "output_type": "error",
     "traceback": [
      "\u001b[0;31m---------------------------------------------------------------------------\u001b[0m",
      "\u001b[0;31mNameError\u001b[0m                                 Traceback (most recent call last)",
      "\u001b[0;32m<ipython-input-2-d66c43cdf5d7>\u001b[0m in \u001b[0;36m<module>\u001b[0;34m()\u001b[0m\n\u001b[0;32m----> 1\u001b[0;31m \u001b[0;32mif\u001b[0m \u001b[0mlen\u001b[0m\u001b[0;34m(\u001b[0m\u001b[0mStarters\u001b[0m\u001b[0;34m)\u001b[0m \u001b[0;34m==\u001b[0m \u001b[0;36m3\u001b[0m \u001b[0;32mand\u001b[0m \u001b[0mlen\u001b[0m\u001b[0;34m(\u001b[0m\u001b[0mStartersPrices\u001b[0m\u001b[0;34m)\u001b[0m \u001b[0;34m==\u001b[0m \u001b[0;36m3\u001b[0m\u001b[0;34m:\u001b[0m\u001b[0;34m\u001b[0m\u001b[0m\n\u001b[0m\u001b[1;32m      2\u001b[0m     \u001b[0mnewItemIndex\u001b[0m \u001b[0;34m=\u001b[0m \u001b[0;36m2\u001b[0m\u001b[0;34m;\u001b[0m\u001b[0;34m\u001b[0m\u001b[0m\n\u001b[1;32m      3\u001b[0m     \u001b[0mprint\u001b[0m\u001b[0;34m(\u001b[0m\u001b[0;34m\"Congrats you've added your favorite starter.\"\u001b[0m\u001b[0;34m,\u001b[0m \u001b[0mStarters\u001b[0m\u001b[0;34m[\u001b[0m\u001b[0mnewItemIndex\u001b[0m\u001b[0;34m]\u001b[0m\u001b[0;34m,\u001b[0m\u001b[0;34m\"for \"\u001b[0m\u001b[0;34m,\u001b[0m \u001b[0mstarterPrices\u001b[0m\u001b[0;34m[\u001b[0m\u001b[0mnewItemIndex\u001b[0m\u001b[0;34m]\u001b[0m\u001b[0;34m,\u001b[0m \u001b[0;34m\"Euros is a great choice\"\u001b[0m\u001b[0;34m)\u001b[0m\u001b[0;34m\u001b[0m\u001b[0m\n",
      "\u001b[0;31mNameError\u001b[0m: name 'Starters' is not defined"
     ]
    }
   ],
   "source": [
    "if len(Starters) == 3 and len(StartersPrices) == 3:\n",
    "    newItemIndex = 2;\n",
    "    print(\"Congrats you've added your favorite starter.\", Starters[newItemIndex],\"for \", starterPrices[newItemIndex], \"Euros is a great choice\")"
   ]
  },
  {
   "cell_type": "markdown",
   "metadata": {},
   "source": [
    "Below we define the arrays for the main dishes and their prices. "
   ]
  },
  {
   "cell_type": "code",
   "execution_count": 50,
   "metadata": {},
   "outputs": [],
   "source": [
    "mainDishes = ['Currywurst', 'Vegetarian Pizza']\n",
    "mainDishPrices = [3, 4]"
   ]
  },
  {
   "cell_type": "markdown",
   "metadata": {},
   "source": [
    "Similar to the starters, replace the ## signs in the code below to add 2 of your favorite dishes to the mainDishes array. "
   ]
  },
  {
   "cell_type": "code",
   "execution_count": 51,
   "metadata": {
    "collapsed": true
   },
   "outputs": [
    {
     "ename": "SyntaxError",
     "evalue": "invalid syntax (<ipython-input-51-7865b8be115c>, line 1)",
     "output_type": "error",
     "traceback": [
      "\u001b[0;36m  File \u001b[0;32m\"<ipython-input-51-7865b8be115c>\"\u001b[0;36m, line \u001b[0;32m1\u001b[0m\n\u001b[0;31m    for i in ##:\u001b[0m\n\u001b[0m                ^\u001b[0m\n\u001b[0;31mSyntaxError\u001b[0m\u001b[0;31m:\u001b[0m invalid syntax\n"
     ]
    }
   ],
   "source": [
    "for i in ##:\n",
    "    x = input('Enter your favorite main dish here: ')\n",
    "    ##.append(x)\n",
    "    y = input('state the price for: ' + x + ' in euros: ')\n",
    "    ##.append(##)"
   ]
  },
  {
   "cell_type": "code",
   "execution_count": 52,
   "metadata": {},
   "outputs": [],
   "source": [
    "if len(mainDishes) == 5 and len(mainDishPrices) == 5:\n",
    "    print(\"Congrats you've added 2 main dishes to the Menu.\")\n",
    "    print(mainDishes[3],\"for \", mainDishPrices[3], \"Euros is a great choice\")\n",
    "    print(mainDishes[4],\"for \", mainDishPrices[4], \"Euros is a great choice\")"
   ]
  },
  {
   "cell_type": "markdown",
   "metadata": {},
   "source": [
    "Below is the array for desserts and its corresponding prices."
   ]
  },
  {
   "cell_type": "code",
   "execution_count": 53,
   "metadata": {},
   "outputs": [],
   "source": [
    "desserts = ['Chocolate Pudding', 'Banana']\n",
    "dessertsPrices = [1, 2]"
   ]
  },
  {
   "cell_type": "markdown",
   "metadata": {},
   "source": [
    "Below is the function that generates the complete menu. Run it to see the menu:"
   ]
  },
  {
   "cell_type": "code",
   "execution_count": 1,
   "metadata": {},
   "outputs": [
    {
     "name": "stdout",
     "output_type": "stream",
     "text": [
      "Mensa Menu\n",
      "Starters: \n",
      "\n"
     ]
    },
    {
     "ename": "NameError",
     "evalue": "name 'starters' is not defined",
     "output_type": "error",
     "traceback": [
      "\u001b[0;31m---------------------------------------------------------------------------\u001b[0m",
      "\u001b[0;31mNameError\u001b[0m                                 Traceback (most recent call last)",
      "\u001b[0;32m<ipython-input-1-12a0b92adf6f>\u001b[0m in \u001b[0;36m<module>\u001b[0;34m()\u001b[0m\n\u001b[1;32m     12\u001b[0m     \u001b[0;32mfor\u001b[0m \u001b[0mdessert\u001b[0m \u001b[0;32min\u001b[0m \u001b[0mdesserts\u001b[0m\u001b[0;34m:\u001b[0m\u001b[0;34m\u001b[0m\u001b[0m\n\u001b[1;32m     13\u001b[0m         \u001b[0mprint\u001b[0m\u001b[0;34m(\u001b[0m\u001b[0mdessert\u001b[0m\u001b[0;34m)\u001b[0m\u001b[0;34m\u001b[0m\u001b[0m\n\u001b[0;32m---> 14\u001b[0;31m \u001b[0mprint_menu\u001b[0m\u001b[0;34m(\u001b[0m\u001b[0;34m)\u001b[0m\u001b[0;34m\u001b[0m\u001b[0m\n\u001b[0m",
      "\u001b[0;32m<ipython-input-1-12a0b92adf6f>\u001b[0m in \u001b[0;36mprint_menu\u001b[0;34m()\u001b[0m\n\u001b[1;32m      2\u001b[0m     \u001b[0mprint\u001b[0m\u001b[0;34m(\u001b[0m\u001b[0;34m\"Mensa Menu\"\u001b[0m\u001b[0;34m)\u001b[0m\u001b[0;34m\u001b[0m\u001b[0m\n\u001b[1;32m      3\u001b[0m     \u001b[0mprint\u001b[0m\u001b[0;34m(\u001b[0m\u001b[0;34m\"Starters: \\n\"\u001b[0m\u001b[0;34m)\u001b[0m\u001b[0;34m\u001b[0m\u001b[0m\n\u001b[0;32m----> 4\u001b[0;31m     \u001b[0;32mfor\u001b[0m \u001b[0mstarter\u001b[0m\u001b[0;34m,\u001b[0m \u001b[0mprice\u001b[0m \u001b[0;32min\u001b[0m \u001b[0mzip\u001b[0m\u001b[0;34m(\u001b[0m\u001b[0mstarters\u001b[0m\u001b[0;34m,\u001b[0m \u001b[0mstarterPrices\u001b[0m\u001b[0;34m)\u001b[0m\u001b[0;34m:\u001b[0m\u001b[0;34m\u001b[0m\u001b[0m\n\u001b[0m\u001b[1;32m      5\u001b[0m         \u001b[0mprint\u001b[0m\u001b[0;34m(\u001b[0m\u001b[0mstarter\u001b[0m\u001b[0;34m,\u001b[0m \u001b[0mprice\u001b[0m\u001b[0;34m)\u001b[0m\u001b[0;34m\u001b[0m\u001b[0m\n\u001b[1;32m      6\u001b[0m     \u001b[0mprint\u001b[0m\u001b[0;34m(\u001b[0m\u001b[0;34m\"\"\u001b[0m\u001b[0;34m)\u001b[0m\u001b[0;34m\u001b[0m\u001b[0m\n",
      "\u001b[0;31mNameError\u001b[0m: name 'starters' is not defined"
     ]
    }
   ],
   "source": [
    "def print_menu():\n",
    "    print(\"Mensa Menu\")\n",
    "    print(\"Starters: \\n\")\n",
    "    for starter, price in zip(starters, starterPrices):\n",
    "        print(starter, price)\n",
    "    print(\"\")\n",
    "    print(\"Main Dishes: \\n\")\n",
    "    for maindish in mainDishes:\n",
    "        print(maindish)\n",
    "    print(\"\")\n",
    "    print(\"Dessserts: \\n\")\n",
    "    for dessert in desserts:\n",
    "        print(dessert)\n",
    "print_menu()"
   ]
  },
  {
   "cell_type": "markdown",
   "metadata": {},
   "source": [
    "Notice that the menu above has the prices for starters but not the others? Read about python's zip function [python's zip function](https://www.w3schools.com/python/ref_func_zip.asp) and modify the code above so that the prices for main dishes and desserts also appear next to them."
   ]
  },
  {
   "cell_type": "markdown",
   "metadata": {},
   "source": [
    "To remind people about social distancing, mensa wants to change the way it displays the menu so that letters in the in the menu are further from each other. To do this, modify the function below that takes as input the name of the item and an integer \"n\" which is to show the degree of distance. This function should add n number of \"&\" symbols after each letter.\n",
    "As an example, if we run socially_distanced_item(\"cheese\", 2), it should return \"c&&h&&e&&e&&s&&e&&\"."
   ]
  },
  {
   "cell_type": "code",
   "execution_count": null,
   "metadata": {},
   "outputs": [],
   "source": [
    "def socially_distanced_item(item, n):\n",
    "    ## complete code\n",
    "    pass"
   ]
  },
  {
   "cell_type": "markdown",
   "metadata": {},
   "source": [
    "Once you've completed the code for socially_distanced_item, write a code that prints the Mensa menu where the letters in the menu are practicing social distancing. In addition, you shouldn't write the menu prices in the menu but instead the item's price should determine the degree of its social distancing. So if cheese costs 2 euros it should be displayed like \"c&&h&&e&&e&&s&&e&&\" and \"c&h&e&e&s&e\" if it costs 1 euro. "
   ]
  },
  {
   "cell_type": "code",
   "execution_count": 59,
   "metadata": {},
   "outputs": [],
   "source": [
    "def print_menu_distanced():\n",
    "    print(\"Socially Distanced Mensa Menu\")\n",
    "    ## complete code\n",
    "    pass\n",
    "print_menu_distanced()"
   ]
  },
  {
   "cell_type": "markdown",
   "metadata": {},
   "source": [
    "To give guests an extra challenge, write a function that takes as input the name of the item, and returns the name of the item in reverse. For example, it will turn \"cheese\" to \"eseehc\". And then complete the print_menu_reversed function to print the entire menu in reverse. "
   ]
  },
  {
   "cell_type": "code",
   "execution_count": 61,
   "metadata": {},
   "outputs": [],
   "source": [
    "def reverse_item(item):\n",
    "    ##complete code\n",
    "    pass\n",
    "def print_menu_reversed():\n",
    "    ##complete code\n",
    "    pass\n"
   ]
  }
 ],
 "metadata": {
  "kernelspec": {
   "display_name": "Python 3",
   "language": "python",
   "name": "python3"
  },
  "language_info": {
   "codemirror_mode": {
    "name": "ipython",
    "version": 3
   },
   "file_extension": ".py",
   "mimetype": "text/x-python",
   "name": "python",
   "nbconvert_exporter": "python",
   "pygments_lexer": "ipython3",
   "version": "3.6.3"
  }
 },
 "nbformat": 4,
 "nbformat_minor": 2
}
