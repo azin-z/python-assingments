{
 "cells": [
  {
   "cell_type": "markdown",
   "metadata": {},
   "source": [
    "In this assignment, we learn about classes in python! "
   ]
  },
  {
   "cell_type": "code",
   "execution_count": 5,
   "metadata": {},
   "outputs": [
    {
     "name": "stdout",
     "output_type": "stream",
     "text": [
      "Objected Oriented Programming is awesome!\n",
      "It makes it easier to modify your code later.You can reuse your code easier. Don't have to redo code you've done before\n"
     ]
    }
   ],
   "source": [
    "from random import randint\n",
    "class PythonClass:\n",
    "    def promoteItself(self):\n",
    "        print('Objected Oriented Programming is awesome!')\n",
    "    def listAnAdvantage(self):\n",
    "        self.promoteItself()\n",
    "        advantages = [\n",
    "            'It makes partitioning the work of a project easier',\n",
    "            'Makes it easy to fix bugs in the code. You know where to look!',\n",
    "            'It makes it easier to modify your code later.'\n",
    "            'You can reuse your code easier. Don\\'t have to redo code you\\'ve done before',\n",
    "            'Yo'\n",
    "        ]\n",
    "        print(advantages[randint(0, len(advantages))])\n",
    "pythonClassRepresentative = PythonClass()\n",
    "pythonClassRepresentative.listAnAdvantage()"
   ]
  },
  {
   "cell_type": "code",
   "execution_count": null,
   "metadata": {},
   "outputs": [],
   "source": []
  }
 ],
 "metadata": {
  "kernelspec": {
   "display_name": "Python 3",
   "language": "python",
   "name": "python3"
  },
  "language_info": {
   "codemirror_mode": {
    "name": "ipython",
    "version": 3
   },
   "file_extension": ".py",
   "mimetype": "text/x-python",
   "name": "python",
   "nbconvert_exporter": "python",
   "pygments_lexer": "ipython3",
   "version": "3.6.3"
  }
 },
 "nbformat": 4,
 "nbformat_minor": 2
}
