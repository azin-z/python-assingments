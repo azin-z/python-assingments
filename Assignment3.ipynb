{
 "cells": [
  {
   "cell_type": "markdown",
   "metadata": {},
   "source": [
    "# Assignment 3"
   ]
  },
  {
   "cell_type": "markdown",
   "metadata": {},
   "source": [
    "In this assignment, we wish to write a program that measures our typing speed. Before you start with this assingment you need to install the request python package. To do this run the following line in your command prompt.\n",
    "\n",
    "```pip install requests```\n",
    "\n",
    "Using the request package we acquire the text for the python wikipedia page. You can change the value for the page_title variable and run the code again to get the text from a wikipedia page of your choice.\n"
   ]
  },
  {
   "cell_type": "code",
   "execution_count": null,
   "metadata": {},
   "outputs": [],
   "source": [
    "def getWikiText(page_name):\n",
    "    import requests\n",
    "    response = requests.get(\n",
    "     'https://en.wikipedia.org/w/api.php',\n",
    "     params={\n",
    "         'action': 'query',\n",
    "         'format': 'json',\n",
    "         'titles': page_name,\n",
    "         'prop': 'extracts',\n",
    "         'exintro': True,\n",
    "         'explaintext': True,\n",
    "     }).json()\n",
    "    return next(iter(response['query']['pages'].values()))['extract']\n",
    "    \n",
    "def string_to_array_of_words(text):\n",
    "    import string\n",
    "    from string import digits\n",
    "    remove_digits = str.maketrans('', '', digits)\n",
    "    remove_punctuation = str.maketrans('', '', string.punctuation)\n",
    "    text = page.replace('\\n','').lower().translate(remove_punctuation).translate(remove_digits)\n",
    "    return list(item for item in text.split(' ') if item != '')\n",
    "\n",
    "page_title = 'Python_(programming_language)'\n",
    "wiki_text = getWikiText(page_title)\n",
    "if wiki_text == '':\n",
    "    print('A wikipedia page with the given title was not found, please correct the page title')\n",
    "else:\n",
    "    print('Congrats the extract from the wikipedia page for ', page_title, 'was successfully loaded')\n",
    "\n",
    "word_array = string_to_array_of_words(wiki_text)\n",
    "\n"
   ]
  },
  {
   "cell_type": "markdown",
   "metadata": {},
   "source": [
    "So now you have an array of words saved in a variable. Go through the following code and try to understand how every function works, especially the decorator function. If you need more information on decorators you can read use [this link on Python Decorators](https://realpython.com/primer-on-python-decorators/)\n",
    "\n",
    "Try to think of the answer the follwoing questions:\n",
    "* How do we get a random part of the text array?\n",
    "* When do the print statements in the ```timing_decorator``` function execute?\n",
    "* How does this function know how long it took to execute the ```prompt_for_type``` function?\n",
    "* How does ```timing_decorator``` access to the string that is an input to the ```promp_for_type function```? \n",
    "* How does ```timing_decorator``` access the string that was typed by the user? "
   ]
  },
  {
   "cell_type": "code",
   "execution_count": null,
   "metadata": {},
   "outputs": [],
   "source": [
    "import functools\n",
    "import time\n",
    "\n",
    "def get_random_piece_of_text(word_array, length):\n",
    "    import random\n",
    "    random_start = random.randint(0, len(word_array) - length)\n",
    "    return ' '.join(word_array[random_start: random_start+length])\n",
    "\n",
    "\n",
    "def print_typos(original_str, user_str):\n",
    "    ##complete code here to show typos\n",
    "    pass\n",
    "    \n",
    "def timing_decorator(func):\n",
    "    @functools.wraps(func)\n",
    "    def wrapper(*args, **kwargs):\n",
    "        string_to_type = kwargs['string_to_type']\n",
    "        start_time = time.time()\n",
    "        typed_string = func(*args, **kwargs)\n",
    "        duration = (time.time() - start_time)\n",
    "        print(round(len(typed_string.split(' '))/duration, 2), 'words per second')\n",
    "        print(round(len(typed_string)/duration, 2), 'letters per second')\n",
    "    return wrapper\n",
    "\n",
    "@timing_decorator\n",
    "def prompt_for_type(string_to_type):\n",
    "    print(string_to_type)\n",
    "    typed_string = input('Type the string above as fast as you can\\n')\n",
    "    return typed_string\n",
    "\n",
    "string_to_type = get_random_piece_of_text(word_array, length=5)\n",
    "prompt_for_type(string_to_type=string_to_type)"
   ]
  },
  {
   "cell_type": "markdown",
   "metadata": {},
   "source": [
    "Would you like to practice your typing skills? Run the function bellow and see if you can increase your typing speed. ^_^"
   ]
  },
  {
   "cell_type": "code",
   "execution_count": null,
   "metadata": {},
   "outputs": [],
   "source": [
    "def run_multiple_rounds_of_same_length():\n",
    "    for i in range(5):\n",
    "        string_to_type = get_random_piece_of_text(word_array, length=5)\n",
    "        prompt_for_type(string_to_type=string_to_type)\n",
    "        \n",
    "run_multiple_rounds_of_same_length()\n"
   ]
  },
  {
   "cell_type": "markdown",
   "metadata": {},
   "source": [
    "Want even more exercise? Run the code bellow, this time the number of words you have to type changes."
   ]
  },
  {
   "cell_type": "code",
   "execution_count": null,
   "metadata": {},
   "outputs": [],
   "source": [
    "def run_multiple_rounds_of_variable_length():\n",
    "    for i in range(1, 5):\n",
    "        string_to_type = get_random_piece_of_text(word_array, length=i)\n",
    "        prompt_for_type(string_to_type=string_to_type)\n",
    "run_multiple_rounds_of_variable_length()\n"
   ]
  },
  {
   "cell_type": "markdown",
   "metadata": {},
   "source": [
    "Now that you've understood decorators and their functionality and you're also more confident in your typing skills(:D), complete the ```print_typos``` function and call this function from within the ```timing_decorator```. For each misspellt word it should print a line like this:\n",
    "``` You typed _misspellt_word_ instead of _original_word_ => n letters were misstyped```\n",
    "To calculate n you can just count the number of letters in the original word that are not in the typed word or if you had time you could implement the "
   ]
  },
  {
   "cell_type": "markdown",
   "metadata": {},
   "source": [
    "Then as a last exercise, write a decorator for the ```run_multiple_rounds``` functions above. Before the typings start write a message of your choosing to tell user that the typing exercise has started. And after user is done tell user that the typing exercise is over. Here is the body of the decorator, don't forget to put the @typing_exercise_decorator on both ```run_multiple_rounds_of_same_length``` and ```run_multiple_rounds_of_variable_length``` and execute them again to see the difference.   "
   ]
  },
  {
   "cell_type": "code",
   "execution_count": null,
   "metadata": {},
   "outputs": [],
   "source": [
    "def typing_exercise_decorator():\n",
    "    pass\n"
   ]
  }
 ],
 "metadata": {
  "kernelspec": {
   "display_name": "Python 3",
   "language": "python",
   "name": "python3"
  },
  "language_info": {
   "codemirror_mode": {
    "name": "ipython",
    "version": 3
   },
   "file_extension": ".py",
   "mimetype": "text/x-python",
   "name": "python",
   "nbconvert_exporter": "python",
   "pygments_lexer": "ipython3",
   "version": "3.6.3"
  }
 },
 "nbformat": 4,
 "nbformat_minor": 2
}
